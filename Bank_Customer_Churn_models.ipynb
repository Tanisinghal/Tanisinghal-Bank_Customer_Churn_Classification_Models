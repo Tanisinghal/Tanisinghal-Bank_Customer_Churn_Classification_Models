{
 "cells": [
  {
   "cell_type": "markdown",
   "id": "8733c25d",
   "metadata": {},
   "source": [
    "**I tried to make model for testing how often people left bank using Tensorflow. This work isn't something great, mostly I made it to practice my skills with Deep Learning.**"
   ]
  },
  {
   "cell_type": "code",
   "execution_count": 2,
   "id": "7cbaa03a",
   "metadata": {},
   "outputs": [],
   "source": [
    "import pandas as pd\n",
    "from matplotlib import pyplot as plt\n",
    "import numpy as np\n",
    "%matplotlib inline"
   ]
  },
  {
   "cell_type": "code",
   "execution_count": 3,
   "id": "25df51e4",
   "metadata": {},
   "outputs": [
    {
     "data": {
      "text/html": [
       "<div>\n",
       "<style scoped>\n",
       "    .dataframe tbody tr th:only-of-type {\n",
       "        vertical-align: middle;\n",
       "    }\n",
       "\n",
       "    .dataframe tbody tr th {\n",
       "        vertical-align: top;\n",
       "    }\n",
       "\n",
       "    .dataframe thead th {\n",
       "        text-align: right;\n",
       "    }\n",
       "</style>\n",
       "<table border=\"1\" class=\"dataframe\">\n",
       "  <thead>\n",
       "    <tr style=\"text-align: right;\">\n",
       "      <th></th>\n",
       "      <th>RowNumber</th>\n",
       "      <th>CustomerId</th>\n",
       "      <th>Surname</th>\n",
       "      <th>CreditScore</th>\n",
       "      <th>Geography</th>\n",
       "      <th>Gender</th>\n",
       "      <th>Age</th>\n",
       "      <th>Tenure</th>\n",
       "      <th>Balance</th>\n",
       "      <th>NumOfProducts</th>\n",
       "      <th>HasCrCard</th>\n",
       "      <th>IsActiveMember</th>\n",
       "      <th>EstimatedSalary</th>\n",
       "      <th>Exited</th>\n",
       "    </tr>\n",
       "  </thead>\n",
       "  <tbody>\n",
       "    <tr>\n",
       "      <th>4255</th>\n",
       "      <td>4256</td>\n",
       "      <td>15596228</td>\n",
       "      <td>Uwaezuoke</td>\n",
       "      <td>490</td>\n",
       "      <td>France</td>\n",
       "      <td>Male</td>\n",
       "      <td>29</td>\n",
       "      <td>4</td>\n",
       "      <td>0.0</td>\n",
       "      <td>2</td>\n",
       "      <td>1</td>\n",
       "      <td>0</td>\n",
       "      <td>32089.57</td>\n",
       "      <td>0</td>\n",
       "    </tr>\n",
       "    <tr>\n",
       "      <th>5659</th>\n",
       "      <td>5660</td>\n",
       "      <td>15638607</td>\n",
       "      <td>Nwabugwu</td>\n",
       "      <td>546</td>\n",
       "      <td>France</td>\n",
       "      <td>Female</td>\n",
       "      <td>52</td>\n",
       "      <td>2</td>\n",
       "      <td>0.0</td>\n",
       "      <td>1</td>\n",
       "      <td>1</td>\n",
       "      <td>0</td>\n",
       "      <td>137332.37</td>\n",
       "      <td>1</td>\n",
       "    </tr>\n",
       "    <tr>\n",
       "      <th>4035</th>\n",
       "      <td>4036</td>\n",
       "      <td>15792607</td>\n",
       "      <td>Little</td>\n",
       "      <td>769</td>\n",
       "      <td>France</td>\n",
       "      <td>Female</td>\n",
       "      <td>38</td>\n",
       "      <td>2</td>\n",
       "      <td>0.0</td>\n",
       "      <td>2</td>\n",
       "      <td>0</td>\n",
       "      <td>0</td>\n",
       "      <td>75578.67</td>\n",
       "      <td>0</td>\n",
       "    </tr>\n",
       "    <tr>\n",
       "      <th>1387</th>\n",
       "      <td>1388</td>\n",
       "      <td>15674526</td>\n",
       "      <td>Byrne</td>\n",
       "      <td>725</td>\n",
       "      <td>France</td>\n",
       "      <td>Male</td>\n",
       "      <td>66</td>\n",
       "      <td>4</td>\n",
       "      <td>86459.8</td>\n",
       "      <td>1</td>\n",
       "      <td>1</td>\n",
       "      <td>1</td>\n",
       "      <td>141476.56</td>\n",
       "      <td>0</td>\n",
       "    </tr>\n",
       "    <tr>\n",
       "      <th>1023</th>\n",
       "      <td>1024</td>\n",
       "      <td>15682639</td>\n",
       "      <td>Marshall</td>\n",
       "      <td>642</td>\n",
       "      <td>France</td>\n",
       "      <td>Male</td>\n",
       "      <td>32</td>\n",
       "      <td>3</td>\n",
       "      <td>0.0</td>\n",
       "      <td>2</td>\n",
       "      <td>1</td>\n",
       "      <td>1</td>\n",
       "      <td>88698.83</td>\n",
       "      <td>0</td>\n",
       "    </tr>\n",
       "  </tbody>\n",
       "</table>\n",
       "</div>"
      ],
      "text/plain": [
       "      RowNumber  CustomerId    Surname  CreditScore Geography  Gender  Age  \\\n",
       "4255       4256    15596228  Uwaezuoke          490    France    Male   29   \n",
       "5659       5660    15638607   Nwabugwu          546    France  Female   52   \n",
       "4035       4036    15792607     Little          769    France  Female   38   \n",
       "1387       1388    15674526      Byrne          725    France    Male   66   \n",
       "1023       1024    15682639   Marshall          642    France    Male   32   \n",
       "\n",
       "      Tenure  Balance  NumOfProducts  HasCrCard  IsActiveMember  \\\n",
       "4255       4      0.0              2          1               0   \n",
       "5659       2      0.0              1          1               0   \n",
       "4035       2      0.0              2          0               0   \n",
       "1387       4  86459.8              1          1               1   \n",
       "1023       3      0.0              2          1               1   \n",
       "\n",
       "      EstimatedSalary  Exited  \n",
       "4255         32089.57       0  \n",
       "5659        137332.37       1  \n",
       "4035         75578.67       0  \n",
       "1387        141476.56       0  \n",
       "1023         88698.83       0  "
      ]
     },
     "execution_count": 3,
     "metadata": {},
     "output_type": "execute_result"
    }
   ],
   "source": [
    "df = pd.read_csv(\"Churn_Modelling.csv\")\n",
    "df.sample(5)"
   ]
  },
  {
   "cell_type": "code",
   "execution_count": 4,
   "id": "8c6a9e54",
   "metadata": {},
   "outputs": [],
   "source": [
    "df.drop(['RowNumber', 'CustomerId', 'Surname'], axis = 1, inplace=True)"
   ]
  },
  {
   "cell_type": "code",
   "execution_count": 5,
   "id": "6a15cadd",
   "metadata": {},
   "outputs": [
    {
     "data": {
      "text/plain": [
       "CreditScore          int64\n",
       "Geography           object\n",
       "Gender              object\n",
       "Age                  int64\n",
       "Tenure               int64\n",
       "Balance            float64\n",
       "NumOfProducts        int64\n",
       "HasCrCard            int64\n",
       "IsActiveMember       int64\n",
       "EstimatedSalary    float64\n",
       "Exited               int64\n",
       "dtype: object"
      ]
     },
     "execution_count": 5,
     "metadata": {},
     "output_type": "execute_result"
    }
   ],
   "source": [
    "df.dtypes"
   ]
  },
  {
   "cell_type": "code",
   "execution_count": 6,
   "id": "215e6d05",
   "metadata": {},
   "outputs": [
    {
     "name": "stdout",
     "output_type": "stream",
     "text": [
      "<class 'pandas.core.frame.DataFrame'>\n",
      "RangeIndex: 10000 entries, 0 to 9999\n",
      "Data columns (total 11 columns):\n",
      " #   Column           Non-Null Count  Dtype  \n",
      "---  ------           --------------  -----  \n",
      " 0   CreditScore      10000 non-null  int64  \n",
      " 1   Geography        10000 non-null  object \n",
      " 2   Gender           10000 non-null  object \n",
      " 3   Age              10000 non-null  int64  \n",
      " 4   Tenure           10000 non-null  int64  \n",
      " 5   Balance          10000 non-null  float64\n",
      " 6   NumOfProducts    10000 non-null  int64  \n",
      " 7   HasCrCard        10000 non-null  int64  \n",
      " 8   IsActiveMember   10000 non-null  int64  \n",
      " 9   EstimatedSalary  10000 non-null  float64\n",
      " 10  Exited           10000 non-null  int64  \n",
      "dtypes: float64(2), int64(7), object(2)\n",
      "memory usage: 859.5+ KB\n"
     ]
    }
   ],
   "source": [
    "df.info()"
   ]
  },
  {
   "cell_type": "code",
   "execution_count": 7,
   "id": "4573bf72",
   "metadata": {},
   "outputs": [
    {
     "name": "stdout",
     "output_type": "stream",
     "text": [
      "Geography: ['France' 'Spain' 'Germany']\n",
      "Gender: ['Female' 'Male']\n",
      "Age: [42 41 39 43 44 50 29 27 31 24 34 25 35 45 58 32 38 46 36 33 40 51 61 49\n",
      " 37 19 66 56 26 21 55 75 22 30 28 65 48 52 57 73 47 54 72 20 67 79 62 53\n",
      " 80 59 68 23 60 70 63 64 18 82 69 74 71 76 77 88 85 84 78 81 92 83]\n",
      "Tenure: [ 2  1  8  7  4  6  3 10  5  9  0]\n",
      "Balance: [     0.    83807.86 159660.8  ...  57369.61  75075.31 130142.79]\n",
      "NumOfProducts: [1 3 2 4]\n",
      "HasCrCard: [1 0]\n",
      "IsActiveMember: [1 0]\n",
      "EstimatedSalary: [101348.88 112542.58 113931.57 ...  42085.58  92888.52  38190.78]\n",
      "Exited: [1 0]\n"
     ]
    }
   ],
   "source": [
    "for column in df:\n",
    "    if column!='CreditScore':\n",
    "        print(f'{column}: {df[column].unique()}')"
   ]
  },
  {
   "cell_type": "code",
   "execution_count": 8,
   "id": "c36aa96a",
   "metadata": {},
   "outputs": [
    {
     "data": {
      "text/plain": [
       "<matplotlib.legend.Legend at 0x22a9e6c2760>"
      ]
     },
     "execution_count": 8,
     "metadata": {},
     "output_type": "execute_result"
    },
    {
     "data": {
      "image/png": "[encoded data removed]",
      "text/plain": [
       "<Figure size 432x288 with 1 Axes>"
      ]
     },
     "metadata": {
      "needs_background": "light"
     },
     "output_type": "display_data"
    }
   ],
   "source": [
    "exited_yes= df[df.Exited == 1].Geography\n",
    "exited_no = df[df.Exited == 0].Geography\n",
    "\n",
    "plt.hist([exited_yes,exited_no],label=(\"Yes\",\"No\"))\n",
    "plt.xlabel(\"Country\")\n",
    "plt.ylabel(\"Number of People\")\n",
    "plt.legend()"
   ]
  },
  {
   "cell_type": "code",
   "execution_count": 9,
   "id": "784a41af",
   "metadata": {},
   "outputs": [
    {
     "data": {
      "text/plain": [
       "<matplotlib.legend.Legend at 0x22a9e866d00>"
      ]
     },
     "execution_count": 9,
     "metadata": {},
     "output_type": "execute_result"
    },
    {
     "data": {
      "image/png": "[encoded data removed]",
      "text/plain": [
       "<Figure size 432x288 with 1 Axes>"
      ]
     },
     "metadata": {
      "needs_background": "light"
     },
     "output_type": "display_data"
    }
   ],
   "source": [
    "tenure_yes = df[df.Exited==1].Tenure\n",
    "tenure_no = df[df.Exited==0].Tenure\n",
    "   \n",
    "plt.hist([tenure_yes,tenure_no],label=(\"Yes\",\"No\"))\n",
    "plt.xlabel(\"Tenure\")\n",
    "plt.ylabel(\"Numper of People\")\n",
    "plt.legend()"
   ]
  },
  {
   "cell_type": "code",
   "execution_count": 10,
   "id": "f8a8b0e7",
   "metadata": {},
   "outputs": [],
   "source": [
    "def print_unique_col_values(df):\n",
    "    for column in df:\n",
    "        if df[column].dtypes=='object':\n",
    "            print(f'{column}: {df[column].unique()}')"
   ]
  },
  {
   "cell_type": "code",
   "execution_count": 11,
   "id": "2323e633",
   "metadata": {},
   "outputs": [
    {
     "name": "stdout",
     "output_type": "stream",
     "text": [
      "Geography: ['France' 'Spain' 'Germany']\n",
      "Gender: ['Female' 'Male']\n"
     ]
    }
   ],
   "source": [
    "print_unique_col_values(df)"
   ]
  },
  {
   "cell_type": "markdown",
   "id": "6f9adef4",
   "metadata": {},
   "source": [
    "**Convert categorical values to numeric values with one Hot-encoded**"
   ]
  },
  {
   "cell_type": "code",
   "execution_count": 12,
   "id": "2ee7c9b5",
   "metadata": {},
   "outputs": [],
   "source": [
    "df['Gender'].replace({'Female':1,'Male':0},inplace=True)"
   ]
  },
  {
   "cell_type": "code",
   "execution_count": 13,
   "id": "e6f4a4f7",
   "metadata": {},
   "outputs": [
    {
     "data": {
      "text/plain": [
       "Index(['CreditScore', 'Gender', 'Age', 'Tenure', 'Balance', 'NumOfProducts',\n",
       "       'HasCrCard', 'IsActiveMember', 'EstimatedSalary', 'Exited',\n",
       "       'Geography_France', 'Geography_Germany', 'Geography_Spain'],\n",
       "      dtype='object')"
      ]
     },
     "execution_count": 13,
     "metadata": {},
     "output_type": "execute_result"
    }
   ],
   "source": [
    "df = pd.get_dummies(data=df, columns=['Geography'])\n",
    "df.columns"
   ]
  },
  {
   "cell_type": "code",
   "execution_count": 14,
   "id": "570e43f0",
   "metadata": {},
   "outputs": [
    {
     "data": {
      "text/html": [
       "<div>\n",
       "<style scoped>\n",
       "    .dataframe tbody tr th:only-of-type {\n",
       "        vertical-align: middle;\n",
       "    }\n",
       "\n",
       "    .dataframe tbody tr th {\n",
       "        vertical-align: top;\n",
       "    }\n",
       "\n",
       "    .dataframe thead th {\n",
       "        text-align: right;\n",
       "    }\n",
       "</style>\n",
       "<table border=\"1\" class=\"dataframe\">\n",
       "  <thead>\n",
       "    <tr style=\"text-align: right;\">\n",
       "      <th></th>\n",
       "      <th>Balance</th>\n",
       "      <th>EstimatedSalary</th>\n",
       "    </tr>\n",
       "  </thead>\n",
       "  <tbody>\n",
       "    <tr>\n",
       "      <th>count</th>\n",
       "      <td>10000.000000</td>\n",
       "      <td>10000.000000</td>\n",
       "    </tr>\n",
       "    <tr>\n",
       "      <th>mean</th>\n",
       "      <td>76485.889288</td>\n",
       "      <td>100090.239881</td>\n",
       "    </tr>\n",
       "    <tr>\n",
       "      <th>std</th>\n",
       "      <td>62397.405202</td>\n",
       "      <td>57510.492818</td>\n",
       "    </tr>\n",
       "    <tr>\n",
       "      <th>min</th>\n",
       "      <td>0.000000</td>\n",
       "      <td>11.580000</td>\n",
       "    </tr>\n",
       "    <tr>\n",
       "      <th>25%</th>\n",
       "      <td>0.000000</td>\n",
       "      <td>51002.110000</td>\n",
       "    </tr>\n",
       "    <tr>\n",
       "      <th>50%</th>\n",
       "      <td>97198.540000</td>\n",
       "      <td>100193.915000</td>\n",
       "    </tr>\n",
       "    <tr>\n",
       "      <th>75%</th>\n",
       "      <td>127644.240000</td>\n",
       "      <td>149388.247500</td>\n",
       "    </tr>\n",
       "    <tr>\n",
       "      <th>max</th>\n",
       "      <td>250898.090000</td>\n",
       "      <td>199992.480000</td>\n",
       "    </tr>\n",
       "  </tbody>\n",
       "</table>\n",
       "</div>"
      ],
      "text/plain": [
       "             Balance  EstimatedSalary\n",
       "count   10000.000000     10000.000000\n",
       "mean    76485.889288    100090.239881\n",
       "std     62397.405202     57510.492818\n",
       "min         0.000000        11.580000\n",
       "25%         0.000000     51002.110000\n",
       "50%     97198.540000    100193.915000\n",
       "75%    127644.240000    149388.247500\n",
       "max    250898.090000    199992.480000"
      ]
     },
     "execution_count": 14,
     "metadata": {},
     "output_type": "execute_result"
    }
   ],
   "source": [
    "df[['Balance','EstimatedSalary']].describe()"
   ]
  },
  {
   "cell_type": "code",
   "execution_count": 15,
   "id": "b2384c19",
   "metadata": {},
   "outputs": [],
   "source": [
    "cols_to_scale = ['Age','CreditScore' , 'Balance', 'EstimatedSalary']\n",
    "\n",
    "from sklearn.preprocessing import MinMaxScaler\n",
    "scaler = MinMaxScaler()\n",
    "\n",
    "df[cols_to_scale] = scaler.fit_transform(df[cols_to_scale])"
   ]
  },
  {
   "cell_type": "code",
   "execution_count": 16,
   "id": "a368f6b5",
   "metadata": {},
   "outputs": [
    {
     "name": "stdout",
     "output_type": "stream",
     "text": [
      "CreditScore: [0.538 0.516 0.304 0.698 1.    0.59  0.944 0.052 0.302 0.668 0.356 0.294\n",
      " 0.252 0.398 0.57  0.532 0.606 0.474 0.752 0.764 0.572 0.32  0.638 0.992\n",
      " 0.454 0.812 0.442 0.448 0.122 0.482 0.366 0.406 0.34  0.744 0.25  0.28\n",
      " 0.908 0.464 0.244 0.23  0.412 0.968 0.62  0.852 0.958 0.574 0.4   0.696\n",
      " 0.47  0.876 0.61  0.502 0.612 0.75  0.322 0.528 0.784 0.674 0.41  0.506\n",
      " 0.802 0.462 0.77  0.622 0.65  0.776 0.926 0.614 0.508 0.338 0.628 0.656\n",
      " 0.814 0.132 0.63  0.854 0.386 0.312 0.286 0.604 0.8   0.758 0.592 0.594\n",
      " 0.916 0.348 0.838 0.76  0.33  0.846 0.928 0.72  0.126 0.546 0.64  0.544\n",
      " 0.87  0.51  0.258 0.67  0.376 0.424 0.742 0.556 0.636 0.956 0.648 0.55\n",
      " 0.164 0.84  0.816 0.89  0.672 0.878 0.478 0.222 0.468 0.458 0.626 0.664\n",
      " 0.886 0.682 0.27  0.6   0.808 0.37  0.732 0.378 0.712 0.472 0.562 0.734\n",
      " 0.9   0.666 0.708 0.53  0.634 0.268 0.26  0.456 0.324 0.512 0.494 0.856\n",
      " 0.328 0.35  0.73  0.46  0.914 0.342 0.818 0.332 0.722 0.536 0.586 0.642\n",
      " 0.678 0.54  0.652 0.444 0.69  0.484 0.434 0.688 0.394 0.488 0.646 0.52\n",
      " 0.834 0.826 0.724 0.706 0.624 0.618 0.346 0.844 0.39  0.568 0.778 0.842\n",
      " 0.662 0.388 0.692 0.832 0.754 0.686 0.414 0.362 0.296 0.602 0.882 0.766\n",
      " 0.922 0.714 0.728 0.864 0.85  0.898 0.504 0.788 0.476 0.794 0.466 0.554\n",
      " 0.762 0.558 0.176 0.584 0.912 0.248 0.418 0.158 0.66  0.798 0.768 0.588\n",
      " 0.552 0.598 0.91  0.736 0.98  0.56  0.608 0.824 0.436 0.526 0.344 0.774\n",
      " 0.596 0.186 0.58  0.38  0.22  0.486 0.902 0.522 0.904 0.79  0.266 0.68\n",
      " 0.284 0.718 0.71  0.42  0.804 0.702 0.374 0.274 0.492 0.704 0.272 0.748\n",
      " 0.396 0.228 0.88  0.368 0.796 0.288 0.48  0.236 0.318 0.936 0.932 0.372\n",
      " 0.806 0.848 0.542 0.438 0.616 0.896 0.582 0.384 0.684 0.578 0.83  0.44\n",
      " 0.576 0.498 0.564 0.858 0.354 0.428 0.966 0.308 0.984 0.316 0.134 0.496\n",
      " 0.782 0.514 0.822 0.996 0.392 0.178 0.81  0.82  0.352 0.726 0.7   0.632\n",
      " 0.432 0.29  0.676 0.524 0.254 0.154 0.978 0.938 0.74  0.218 0.306 0.548\n",
      " 0.358 0.426 0.264 0.892 0.19  0.792 0.872 0.408 0.644 0.874 0.298 0.988\n",
      " 0.2   0.93  0.976 0.906 0.772 0.566 0.5   0.658 0.334 0.884 0.786 0.276\n",
      " 0.142 0.982 0.716 0.314 0.31  0.212 0.17  0.422 0.336 0.43  0.756 0.868\n",
      " 0.404 0.518 0.828 0.694 0.746 0.402 0.188 0.738 0.292 0.382 0.96  0.924\n",
      " 0.654 0.14  0.49  0.534 0.918 0.3   0.952 0.168 0.326 0.256 0.894 0.026\n",
      " 0.098 0.226 0.86  0.204 0.45  0.974 0.888 0.948 0.156 0.946 0.862 0.998\n",
      " 0.278 0.162 0.214 0.836 0.962 0.018 0.94  0.446 0.452 0.416 0.934 0.198\n",
      " 0.18  0.13  0.942 0.36  0.    0.192 0.15  0.78  0.262 0.866 0.016 0.99\n",
      " 0.202 0.216 0.238 0.146 0.108 0.972 0.246 0.97  0.232 0.282 0.002 0.954\n",
      " 0.986 0.03  0.364 0.128 0.206 0.242 0.102 0.92  0.964 0.24  0.194 0.144\n",
      " 0.95  0.16  0.172 0.152 0.116 0.994 0.136 0.174 0.12  0.208 0.114 0.21\n",
      " 0.224 0.072 0.11  0.066 0.09  0.234 0.166 0.184 0.148 0.196 0.182 0.034\n",
      " 0.124 0.064 0.046 0.138]\n",
      "Gender: [1 0]\n",
      "Age: [0.32432432 0.31081081 0.28378378 0.33783784 0.35135135 0.43243243\n",
      " 0.14864865 0.12162162 0.17567568 0.08108108 0.21621622 0.09459459\n",
      " 0.22972973 0.36486486 0.54054054 0.18918919 0.27027027 0.37837838\n",
      " 0.24324324 0.2027027  0.2972973  0.44594595 0.58108108 0.41891892\n",
      " 0.25675676 0.01351351 0.64864865 0.51351351 0.10810811 0.04054054\n",
      " 0.5        0.77027027 0.05405405 0.16216216 0.13513514 0.63513514\n",
      " 0.40540541 0.45945946 0.52702703 0.74324324 0.39189189 0.48648649\n",
      " 0.72972973 0.02702703 0.66216216 0.82432432 0.59459459 0.47297297\n",
      " 0.83783784 0.55405405 0.67567568 0.06756757 0.56756757 0.7027027\n",
      " 0.60810811 0.62162162 0.         0.86486486 0.68918919 0.75675676\n",
      " 0.71621622 0.78378378 0.7972973  0.94594595 0.90540541 0.89189189\n",
      " 0.81081081 0.85135135 1.         0.87837838]\n",
      "Tenure: [ 2  1  8  7  4  6  3 10  5  9  0]\n",
      "Balance: [0.         0.33403148 0.63635718 ... 0.22865702 0.29922631 0.51870777]\n",
      "NumOfProducts: [1 3 2 4]\n",
      "HasCrCard: [1 0]\n",
      "IsActiveMember: [1 0]\n",
      "EstimatedSalary: [0.50673489 0.56270874 0.56965435 ... 0.21039009 0.46442905 0.19091423]\n",
      "Exited: [1 0]\n",
      "Geography_France: [1 0]\n",
      "Geography_Germany: [0 1]\n",
      "Geography_Spain: [0 1]\n"
     ]
    }
   ],
   "source": [
    "for col in df:\n",
    "    print(f'{col}: {df[col].unique()}')"
   ]
  },
  {
   "cell_type": "code",
   "execution_count": 17,
   "id": "433ff746",
   "metadata": {},
   "outputs": [
    {
     "data": {
      "text/plain": [
       "0    7963\n",
       "1    2037\n",
       "Name: Exited, dtype: int64"
      ]
     },
     "execution_count": 17,
     "metadata": {},
     "output_type": "execute_result"
    }
   ],
   "source": [
    "df['Exited'].value_counts()"
   ]
  },
  {
   "cell_type": "markdown",
   "id": "c2bf5f5e",
   "metadata": {},
   "source": [
    "**Handling imbalanced data with train test split**"
   ]
  },
  {
   "cell_type": "code",
   "execution_count": 18,
   "id": "f0e8ac3b",
   "metadata": {},
   "outputs": [],
   "source": [
    "X = df.drop('Exited', axis = 'columns')\n",
    "y = df['Exited']\n",
    "\n",
    "from sklearn.model_selection import train_test_split\n",
    "X_train, X_test, y_train, y_test = train_test_split(X,y,test_size=0.2,random_state=5)"
   ]
  },
  {
   "cell_type": "code",
   "execution_count": 19,
   "id": "fa716411",
   "metadata": {},
   "outputs": [
    {
     "data": {
      "text/html": [
       "<div>\n",
       "<style scoped>\n",
       "    .dataframe tbody tr th:only-of-type {\n",
       "        vertical-align: middle;\n",
       "    }\n",
       "\n",
       "    .dataframe tbody tr th {\n",
       "        vertical-align: top;\n",
       "    }\n",
       "\n",
       "    .dataframe thead th {\n",
       "        text-align: right;\n",
       "    }\n",
       "</style>\n",
       "<table border=\"1\" class=\"dataframe\">\n",
       "  <thead>\n",
       "    <tr style=\"text-align: right;\">\n",
       "      <th></th>\n",
       "      <th>CreditScore</th>\n",
       "      <th>Gender</th>\n",
       "      <th>Age</th>\n",
       "      <th>Tenure</th>\n",
       "      <th>Balance</th>\n",
       "      <th>NumOfProducts</th>\n",
       "      <th>HasCrCard</th>\n",
       "      <th>IsActiveMember</th>\n",
       "      <th>EstimatedSalary</th>\n",
       "      <th>Geography_France</th>\n",
       "      <th>Geography_Germany</th>\n",
       "      <th>Geography_Spain</th>\n",
       "    </tr>\n",
       "  </thead>\n",
       "  <tbody>\n",
       "    <tr>\n",
       "      <th>7751</th>\n",
       "      <td>0.800</td>\n",
       "      <td>1</td>\n",
       "      <td>0.283784</td>\n",
       "      <td>6</td>\n",
       "      <td>0.000000</td>\n",
       "      <td>2</td>\n",
       "      <td>0</td>\n",
       "      <td>0</td>\n",
       "      <td>0.096273</td>\n",
       "      <td>0</td>\n",
       "      <td>0</td>\n",
       "      <td>1</td>\n",
       "    </tr>\n",
       "    <tr>\n",
       "      <th>4154</th>\n",
       "      <td>0.752</td>\n",
       "      <td>0</td>\n",
       "      <td>0.216216</td>\n",
       "      <td>3</td>\n",
       "      <td>0.000000</td>\n",
       "      <td>2</td>\n",
       "      <td>1</td>\n",
       "      <td>0</td>\n",
       "      <td>0.981478</td>\n",
       "      <td>1</td>\n",
       "      <td>0</td>\n",
       "      <td>0</td>\n",
       "    </tr>\n",
       "    <tr>\n",
       "      <th>3881</th>\n",
       "      <td>0.476</td>\n",
       "      <td>1</td>\n",
       "      <td>0.621622</td>\n",
       "      <td>3</td>\n",
       "      <td>0.000000</td>\n",
       "      <td>1</td>\n",
       "      <td>1</td>\n",
       "      <td>1</td>\n",
       "      <td>0.948551</td>\n",
       "      <td>1</td>\n",
       "      <td>0</td>\n",
       "      <td>0</td>\n",
       "    </tr>\n",
       "    <tr>\n",
       "      <th>9238</th>\n",
       "      <td>0.846</td>\n",
       "      <td>1</td>\n",
       "      <td>0.432432</td>\n",
       "      <td>4</td>\n",
       "      <td>0.000000</td>\n",
       "      <td>2</td>\n",
       "      <td>1</td>\n",
       "      <td>0</td>\n",
       "      <td>0.646869</td>\n",
       "      <td>1</td>\n",
       "      <td>0</td>\n",
       "      <td>0</td>\n",
       "    </tr>\n",
       "    <tr>\n",
       "      <th>5210</th>\n",
       "      <td>0.402</td>\n",
       "      <td>0</td>\n",
       "      <td>0.229730</td>\n",
       "      <td>7</td>\n",
       "      <td>0.517012</td>\n",
       "      <td>2</td>\n",
       "      <td>0</td>\n",
       "      <td>0</td>\n",
       "      <td>0.434670</td>\n",
       "      <td>1</td>\n",
       "      <td>0</td>\n",
       "      <td>0</td>\n",
       "    </tr>\n",
       "    <tr>\n",
       "      <th>7487</th>\n",
       "      <td>0.602</td>\n",
       "      <td>1</td>\n",
       "      <td>0.513514</td>\n",
       "      <td>4</td>\n",
       "      <td>0.000000</td>\n",
       "      <td>1</td>\n",
       "      <td>0</td>\n",
       "      <td>0</td>\n",
       "      <td>0.421898</td>\n",
       "      <td>1</td>\n",
       "      <td>0</td>\n",
       "      <td>0</td>\n",
       "    </tr>\n",
       "    <tr>\n",
       "      <th>7542</th>\n",
       "      <td>0.314</td>\n",
       "      <td>1</td>\n",
       "      <td>0.216216</td>\n",
       "      <td>4</td>\n",
       "      <td>0.000000</td>\n",
       "      <td>2</td>\n",
       "      <td>1</td>\n",
       "      <td>1</td>\n",
       "      <td>0.303413</td>\n",
       "      <td>0</td>\n",
       "      <td>0</td>\n",
       "      <td>1</td>\n",
       "    </tr>\n",
       "    <tr>\n",
       "      <th>7524</th>\n",
       "      <td>0.620</td>\n",
       "      <td>1</td>\n",
       "      <td>0.297297</td>\n",
       "      <td>8</td>\n",
       "      <td>0.666330</td>\n",
       "      <td>1</td>\n",
       "      <td>1</td>\n",
       "      <td>1</td>\n",
       "      <td>0.925815</td>\n",
       "      <td>1</td>\n",
       "      <td>0</td>\n",
       "      <td>0</td>\n",
       "    </tr>\n",
       "    <tr>\n",
       "      <th>9412</th>\n",
       "      <td>0.750</td>\n",
       "      <td>0</td>\n",
       "      <td>0.108108</td>\n",
       "      <td>6</td>\n",
       "      <td>0.393324</td>\n",
       "      <td>1</td>\n",
       "      <td>0</td>\n",
       "      <td>0</td>\n",
       "      <td>0.668609</td>\n",
       "      <td>1</td>\n",
       "      <td>0</td>\n",
       "      <td>0</td>\n",
       "    </tr>\n",
       "    <tr>\n",
       "      <th>6377</th>\n",
       "      <td>0.684</td>\n",
       "      <td>0</td>\n",
       "      <td>0.202703</td>\n",
       "      <td>9</td>\n",
       "      <td>0.000000</td>\n",
       "      <td>1</td>\n",
       "      <td>1</td>\n",
       "      <td>0</td>\n",
       "      <td>0.567526</td>\n",
       "      <td>1</td>\n",
       "      <td>0</td>\n",
       "      <td>0</td>\n",
       "    </tr>\n",
       "  </tbody>\n",
       "</table>\n",
       "</div>"
      ],
      "text/plain": [
       "      CreditScore  Gender       Age  Tenure   Balance  NumOfProducts  \\\n",
       "7751        0.800       1  0.283784       6  0.000000              2   \n",
       "4154        0.752       0  0.216216       3  0.000000              2   \n",
       "3881        0.476       1  0.621622       3  0.000000              1   \n",
       "9238        0.846       1  0.432432       4  0.000000              2   \n",
       "5210        0.402       0  0.229730       7  0.517012              2   \n",
       "7487        0.602       1  0.513514       4  0.000000              1   \n",
       "7542        0.314       1  0.216216       4  0.000000              2   \n",
       "7524        0.620       1  0.297297       8  0.666330              1   \n",
       "9412        0.750       0  0.108108       6  0.393324              1   \n",
       "6377        0.684       0  0.202703       9  0.000000              1   \n",
       "\n",
       "      HasCrCard  IsActiveMember  EstimatedSalary  Geography_France  \\\n",
       "7751          0               0         0.096273                 0   \n",
       "4154          1               0         0.981478                 1   \n",
       "3881          1               1         0.948551                 1   \n",
       "9238          1               0         0.646869                 1   \n",
       "5210          0               0         0.434670                 1   \n",
       "7487          0               0         0.421898                 1   \n",
       "7542          1               1         0.303413                 0   \n",
       "7524          1               1         0.925815                 1   \n",
       "9412          0               0         0.668609                 1   \n",
       "6377          1               0         0.567526                 1   \n",
       "\n",
       "      Geography_Germany  Geography_Spain  \n",
       "7751                  0                1  \n",
       "4154                  0                0  \n",
       "3881                  0                0  \n",
       "9238                  0                0  \n",
       "5210                  0                0  \n",
       "7487                  0                0  \n",
       "7542                  0                1  \n",
       "7524                  0                0  \n",
       "9412                  0                0  \n",
       "6377                  0                0  "
      ]
     },
     "execution_count": 19,
     "metadata": {},
     "output_type": "execute_result"
    }
   ],
   "source": [
    "X_train[:10]"
   ]
  },
  {
   "cell_type": "code",
   "execution_count": 20,
   "id": "4d97a1b7",
   "metadata": {},
   "outputs": [
    {
     "data": {
      "text/plain": [
       "12"
      ]
     },
     "execution_count": 20,
     "metadata": {},
     "output_type": "execute_result"
    }
   ],
   "source": [
    "len(X_train.columns)"
   ]
  },
  {
   "cell_type": "markdown",
   "id": "9fd85a10",
   "metadata": {},
   "source": [
    "**ANN Model**"
   ]
  },
  {
   "cell_type": "code",
   "execution_count": 21,
   "id": "8c048b0a",
   "metadata": {},
   "outputs": [
    {
     "name": "stdout",
     "output_type": "stream",
     "text": [
      "Epoch 1/100\n",
      "250/250 [==============================] - 3s 5ms/step - loss: 0.5465 - accuracy: 0.7450\n",
      "Epoch 2/100\n",
      "250/250 [==============================] - 1s 4ms/step - loss: 0.4749 - accuracy: 0.7966\n",
      "Epoch 3/100\n",
      "250/250 [==============================] - 1s 5ms/step - loss: 0.4593 - accuracy: 0.8009\n",
      "Epoch 4/100\n",
      "250/250 [==============================] - 1s 5ms/step - loss: 0.4503 - accuracy: 0.8045\n",
      "Epoch 5/100\n",
      "250/250 [==============================] - 1s 5ms/step - loss: 0.4412 - accuracy: 0.8081\n",
      "Epoch 6/100\n",
      "250/250 [==============================] - 1s 5ms/step - loss: 0.4306 - accuracy: 0.8105\n",
      "Epoch 7/100\n",
      "250/250 [==============================] - 1s 5ms/step - loss: 0.4192 - accuracy: 0.8176\n",
      "Epoch 8/100\n",
      "250/250 [==============================] - 1s 5ms/step - loss: 0.4098 - accuracy: 0.8205\n",
      "Epoch 9/100\n",
      "250/250 [==============================] - 1s 5ms/step - loss: 0.4006 - accuracy: 0.8267\n",
      "Epoch 10/100\n",
      "250/250 [==============================] - 1s 5ms/step - loss: 0.3933 - accuracy: 0.8298\n",
      "Epoch 11/100\n",
      "250/250 [==============================] - 1s 5ms/step - loss: 0.3865 - accuracy: 0.8311\n",
      "Epoch 12/100\n",
      "250/250 [==============================] - 2s 6ms/step - loss: 0.3806 - accuracy: 0.8336\n",
      "Epoch 13/100\n",
      "250/250 [==============================] - 1s 5ms/step - loss: 0.3772 - accuracy: 0.8361\n",
      "Epoch 14/100\n",
      "250/250 [==============================] - 1s 5ms/step - loss: 0.3718 - accuracy: 0.8396\n",
      "Epoch 15/100\n",
      "250/250 [==============================] - 1s 6ms/step - loss: 0.3694 - accuracy: 0.8393\n",
      "Epoch 16/100\n",
      "250/250 [==============================] - 1s 5ms/step - loss: 0.3677 - accuracy: 0.8401\n",
      "Epoch 17/100\n",
      "250/250 [==============================] - 1s 5ms/step - loss: 0.3656 - accuracy: 0.8439\n",
      "Epoch 18/100\n",
      "250/250 [==============================] - 1s 5ms/step - loss: 0.3617 - accuracy: 0.8453\n",
      "Epoch 19/100\n",
      "250/250 [==============================] - 1s 5ms/step - loss: 0.3618 - accuracy: 0.8443\n",
      "Epoch 20/100\n",
      "250/250 [==============================] - 1s 6ms/step - loss: 0.3600 - accuracy: 0.8469\n",
      "Epoch 21/100\n",
      "250/250 [==============================] - 1s 6ms/step - loss: 0.3585 - accuracy: 0.8501\n",
      "Epoch 22/100\n",
      "250/250 [==============================] - 1s 6ms/step - loss: 0.3582 - accuracy: 0.8470\n",
      "Epoch 23/100\n",
      "250/250 [==============================] - 2s 6ms/step - loss: 0.3571 - accuracy: 0.8494\n",
      "Epoch 24/100\n",
      "250/250 [==============================] - 1s 5ms/step - loss: 0.3569 - accuracy: 0.8489\n",
      "Epoch 25/100\n",
      "250/250 [==============================] - 1s 5ms/step - loss: 0.3543 - accuracy: 0.8508\n",
      "Epoch 26/100\n",
      "250/250 [==============================] - 1s 5ms/step - loss: 0.3534 - accuracy: 0.8518\n",
      "Epoch 27/100\n",
      "250/250 [==============================] - 1s 5ms/step - loss: 0.3535 - accuracy: 0.8521\n",
      "Epoch 28/100\n",
      "250/250 [==============================] - 1s 5ms/step - loss: 0.3518 - accuracy: 0.8528\n",
      "Epoch 29/100\n",
      "250/250 [==============================] - 1s 5ms/step - loss: 0.3516 - accuracy: 0.8511\n",
      "Epoch 30/100\n",
      "250/250 [==============================] - 1s 5ms/step - loss: 0.3516 - accuracy: 0.8520\n",
      "Epoch 31/100\n",
      "250/250 [==============================] - 1s 5ms/step - loss: 0.3503 - accuracy: 0.8524\n",
      "Epoch 32/100\n",
      "250/250 [==============================] - 1s 5ms/step - loss: 0.3508 - accuracy: 0.8530\n",
      "Epoch 33/100\n",
      "250/250 [==============================] - 1s 5ms/step - loss: 0.3496 - accuracy: 0.8544\n",
      "Epoch 34/100\n",
      "250/250 [==============================] - 1s 6ms/step - loss: 0.3510 - accuracy: 0.8525\n",
      "Epoch 35/100\n",
      "250/250 [==============================] - 1s 5ms/step - loss: 0.3485 - accuracy: 0.8535\n",
      "Epoch 36/100\n",
      "250/250 [==============================] - 1s 5ms/step - loss: 0.3478 - accuracy: 0.8553\n",
      "Epoch 37/100\n",
      "250/250 [==============================] - 1s 5ms/step - loss: 0.3480 - accuracy: 0.8525\n",
      "Epoch 38/100\n",
      "250/250 [==============================] - 1s 5ms/step - loss: 0.3490 - accuracy: 0.8536\n",
      "Epoch 39/100\n",
      "250/250 [==============================] - 1s 5ms/step - loss: 0.3491 - accuracy: 0.8553\n",
      "Epoch 40/100\n",
      "250/250 [==============================] - 1s 5ms/step - loss: 0.3478 - accuracy: 0.8559\n",
      "Epoch 41/100\n",
      "250/250 [==============================] - 1s 5ms/step - loss: 0.3461 - accuracy: 0.8529\n",
      "Epoch 42/100\n",
      "250/250 [==============================] - 1s 5ms/step - loss: 0.3461 - accuracy: 0.8550\n",
      "Epoch 43/100\n",
      "250/250 [==============================] - 1s 5ms/step - loss: 0.3465 - accuracy: 0.8569\n",
      "Epoch 44/100\n",
      "250/250 [==============================] - 1s 5ms/step - loss: 0.3446 - accuracy: 0.8568\n",
      "Epoch 45/100\n",
      "250/250 [==============================] - 1s 5ms/step - loss: 0.3458 - accuracy: 0.8580\n",
      "Epoch 46/100\n",
      "250/250 [==============================] - 1s 5ms/step - loss: 0.3445 - accuracy: 0.8594\n",
      "Epoch 47/100\n",
      "250/250 [==============================] - 1s 5ms/step - loss: 0.3458 - accuracy: 0.8562\n",
      "Epoch 48/100\n",
      "250/250 [==============================] - 1s 5ms/step - loss: 0.3437 - accuracy: 0.8586\n",
      "Epoch 49/100\n",
      "250/250 [==============================] - 1s 5ms/step - loss: 0.3428 - accuracy: 0.8556\n",
      "Epoch 50/100\n",
      "250/250 [==============================] - 1s 5ms/step - loss: 0.3435 - accuracy: 0.8580\n",
      "Epoch 51/100\n",
      "250/250 [==============================] - 1s 5ms/step - loss: 0.3439 - accuracy: 0.8566\n",
      "Epoch 52/100\n",
      "250/250 [==============================] - 1s 5ms/step - loss: 0.3430 - accuracy: 0.8594\n",
      "Epoch 53/100\n",
      "250/250 [==============================] - 1s 5ms/step - loss: 0.3426 - accuracy: 0.8560\n",
      "Epoch 54/100\n",
      "250/250 [==============================] - 1s 5ms/step - loss: 0.3421 - accuracy: 0.8576\n",
      "Epoch 55/100\n",
      "250/250 [==============================] - 1s 5ms/step - loss: 0.3432 - accuracy: 0.8583\n",
      "Epoch 56/100\n",
      "250/250 [==============================] - 1s 5ms/step - loss: 0.3418 - accuracy: 0.8594\n",
      "Epoch 57/100\n",
      "250/250 [==============================] - 1s 5ms/step - loss: 0.3400 - accuracy: 0.8601\n",
      "Epoch 58/100\n",
      "250/250 [==============================] - 1s 5ms/step - loss: 0.3417 - accuracy: 0.8581\n",
      "Epoch 59/100\n",
      "250/250 [==============================] - 1s 5ms/step - loss: 0.3412 - accuracy: 0.8576\n",
      "Epoch 60/100\n",
      "250/250 [==============================] - 1s 4ms/step - loss: 0.3422 - accuracy: 0.8585\n",
      "Epoch 61/100\n",
      "250/250 [==============================] - 1s 5ms/step - loss: 0.3402 - accuracy: 0.8602\n",
      "Epoch 62/100\n",
      "250/250 [==============================] - 1s 5ms/step - loss: 0.3398 - accuracy: 0.8591\n",
      "Epoch 63/100\n",
      "250/250 [==============================] - 1s 5ms/step - loss: 0.3403 - accuracy: 0.8611\n",
      "Epoch 64/100\n",
      "250/250 [==============================] - 1s 5ms/step - loss: 0.3394 - accuracy: 0.8606\n",
      "Epoch 65/100\n",
      "250/250 [==============================] - 1s 5ms/step - loss: 0.3394 - accuracy: 0.8579\n",
      "Epoch 66/100\n",
      "250/250 [==============================] - 1s 5ms/step - loss: 0.3394 - accuracy: 0.8606\n",
      "Epoch 67/100\n",
      "250/250 [==============================] - 1s 5ms/step - loss: 0.3382 - accuracy: 0.8629\n",
      "Epoch 68/100\n",
      "250/250 [==============================] - 1s 5ms/step - loss: 0.3400 - accuracy: 0.8610\n",
      "Epoch 69/100\n",
      "250/250 [==============================] - 1s 5ms/step - loss: 0.3390 - accuracy: 0.8606\n",
      "Epoch 70/100\n",
      "250/250 [==============================] - 1s 5ms/step - loss: 0.3387 - accuracy: 0.8611\n",
      "Epoch 71/100\n",
      "250/250 [==============================] - 1s 5ms/step - loss: 0.3388 - accuracy: 0.8621\n",
      "Epoch 72/100\n",
      "250/250 [==============================] - 1s 5ms/step - loss: 0.3381 - accuracy: 0.8595\n",
      "Epoch 73/100\n",
      "250/250 [==============================] - 1s 5ms/step - loss: 0.3374 - accuracy: 0.8624\n",
      "Epoch 74/100\n",
      "250/250 [==============================] - 1s 5ms/step - loss: 0.3396 - accuracy: 0.8630\n",
      "Epoch 75/100\n",
      "250/250 [==============================] - 1s 5ms/step - loss: 0.3373 - accuracy: 0.8611\n",
      "Epoch 76/100\n",
      "250/250 [==============================] - 1s 5ms/step - loss: 0.3383 - accuracy: 0.8635\n",
      "Epoch 77/100\n",
      "250/250 [==============================] - 1s 5ms/step - loss: 0.3367 - accuracy: 0.8627\n",
      "Epoch 78/100\n",
      "250/250 [==============================] - 2s 6ms/step - loss: 0.3363 - accuracy: 0.8641\n",
      "Epoch 79/100\n",
      "250/250 [==============================] - 1s 5ms/step - loss: 0.3373 - accuracy: 0.8627\n",
      "Epoch 80/100\n",
      "250/250 [==============================] - 1s 6ms/step - loss: 0.3368 - accuracy: 0.8639\n",
      "Epoch 81/100\n",
      "250/250 [==============================] - 1s 5ms/step - loss: 0.3365 - accuracy: 0.8625\n",
      "Epoch 82/100\n",
      "250/250 [==============================] - 1s 5ms/step - loss: 0.3374 - accuracy: 0.8631\n",
      "Epoch 83/100\n",
      "250/250 [==============================] - 1s 5ms/step - loss: 0.3358 - accuracy: 0.8634\n",
      "Epoch 84/100\n",
      "250/250 [==============================] - 1s 5ms/step - loss: 0.3363 - accuracy: 0.8624\n",
      "Epoch 85/100\n",
      "250/250 [==============================] - 1s 5ms/step - loss: 0.3359 - accuracy: 0.8620\n",
      "Epoch 86/100\n",
      "250/250 [==============================] - 1s 5ms/step - loss: 0.3360 - accuracy: 0.8612\n",
      "Epoch 87/100\n",
      "250/250 [==============================] - 1s 5ms/step - loss: 0.3359 - accuracy: 0.8639\n",
      "Epoch 88/100\n",
      "250/250 [==============================] - 1s 5ms/step - loss: 0.3355 - accuracy: 0.8626\n",
      "Epoch 89/100\n",
      "250/250 [==============================] - 1s 5ms/step - loss: 0.3355 - accuracy: 0.8633\n",
      "Epoch 90/100\n",
      "250/250 [==============================] - 1s 5ms/step - loss: 0.3347 - accuracy: 0.8643\n",
      "Epoch 91/100\n",
      "250/250 [==============================] - 1s 5ms/step - loss: 0.3341 - accuracy: 0.8629\n",
      "Epoch 92/100\n",
      "250/250 [==============================] - 1s 5ms/step - loss: 0.3337 - accuracy: 0.8633\n",
      "Epoch 93/100\n",
      "250/250 [==============================] - 1s 5ms/step - loss: 0.3341 - accuracy: 0.8633\n",
      "Epoch 94/100\n",
      "250/250 [==============================] - 1s 5ms/step - loss: 0.3346 - accuracy: 0.8634\n",
      "Epoch 95/100\n",
      "250/250 [==============================] - 1s 5ms/step - loss: 0.3336 - accuracy: 0.8649\n",
      "Epoch 96/100\n",
      "250/250 [==============================] - 1s 5ms/step - loss: 0.3344 - accuracy: 0.8645\n",
      "Epoch 97/100\n",
      "250/250 [==============================] - 1s 5ms/step - loss: 0.3331 - accuracy: 0.8650\n",
      "Epoch 98/100\n",
      "250/250 [==============================] - 1s 6ms/step - loss: 0.3331 - accuracy: 0.8641\n",
      "Epoch 99/100\n",
      "250/250 [==============================] - 1s 5ms/step - loss: 0.3321 - accuracy: 0.8639\n",
      "Epoch 100/100\n",
      "250/250 [==============================] - 1s 5ms/step - loss: 0.3327 - accuracy: 0.8643\n"
     ]
    },
    {
     "data": {
      "text/plain": [
       "<keras.callbacks.History at 0x22aad0ba730>"
      ]
     },
     "execution_count": 21,
     "metadata": {},
     "output_type": "execute_result"
    }
   ],
   "source": [
    "import tensorflow as tf\n",
    "from tensorflow import keras\n",
    "\n",
    "\n",
    "model = keras.Sequential([\n",
    "    keras.layers.Dense(12, input_shape=(12,), activation='relu'),\n",
    "    keras.layers.Dense(6, activation='relu'),\n",
    "    keras.layers.Dense(1, activation='sigmoid')\n",
    "])\n",
    "\n",
    "# opt = keras.optimizers.Adam(learning_rate=0.01)\n",
    "\n",
    "model.compile(optimizer='adam',\n",
    "              loss='binary_crossentropy',\n",
    "              metrics=['accuracy'])\n",
    "\n",
    "model.fit(X_train, y_train, epochs=100)"
   ]
  },
  {
   "cell_type": "code",
   "execution_count": 22,
   "id": "d179f718",
   "metadata": {},
   "outputs": [
    {
     "name": "stdout",
     "output_type": "stream",
     "text": [
      "63/63 [==============================] - 1s 4ms/step - loss: 0.3616 - accuracy: 0.8485\n",
      "\n",
      " test accuracy : [0.3615666627883911, 0.8485000133514404]\n"
     ]
    }
   ],
   "source": [
    "print(f'\\n test accuracy : {model.evaluate(X_test, y_test)}')"
   ]
  },
  {
   "cell_type": "code",
   "execution_count": 24,
   "id": "0e76ee7f",
   "metadata": {},
   "outputs": [],
   "source": [
    "yp = model.predict(X_test)\n",
    "yp = np.round(yp)"
   ]
  },
  {
   "cell_type": "code",
   "execution_count": 25,
   "id": "df4d1b36",
   "metadata": {},
   "outputs": [
    {
     "data": {
      "text/plain": [
       "array([[0.],\n",
       "       [0.],\n",
       "       [0.],\n",
       "       [0.],\n",
       "       [0.]], dtype=float32)"
      ]
     },
     "execution_count": 25,
     "metadata": {},
     "output_type": "execute_result"
    }
   ],
   "source": [
    "yp[:5]"
   ]
  },
  {
   "cell_type": "code",
   "execution_count": 26,
   "id": "508ede95",
   "metadata": {},
   "outputs": [
    {
     "data": {
      "text/plain": [
       "[0, 0, 0, 0, 0, 0, 0, 0, 0, 1]"
      ]
     },
     "execution_count": 26,
     "metadata": {},
     "output_type": "execute_result"
    }
   ],
   "source": [
    "y_pred = []\n",
    "for element in yp:\n",
    "    if element > 0.5:\n",
    "        y_pred.append(1)\n",
    "    else:\n",
    "        y_pred.append(0)\n",
    "\n",
    "y_pred[:10]"
   ]
  },
  {
   "cell_type": "code",
   "execution_count": 27,
   "id": "b3ea3152",
   "metadata": {},
   "outputs": [
    {
     "data": {
      "text/plain": [
       "7054    0\n",
       "442     0\n",
       "3954    0\n",
       "2288    0\n",
       "3196    0\n",
       "6178    0\n",
       "8351    0\n",
       "5658    1\n",
       "2065    0\n",
       "413     1\n",
       "Name: Exited, dtype: int64"
      ]
     },
     "execution_count": 27,
     "metadata": {},
     "output_type": "execute_result"
    }
   ],
   "source": [
    "y_test[:10]"
   ]
  },
  {
   "cell_type": "code",
   "execution_count": 28,
   "id": "58d57e44",
   "metadata": {},
   "outputs": [
    {
     "name": "stdout",
     "output_type": "stream",
     "text": [
      "              precision    recall  f1-score   support\n",
      "\n",
      "           0       0.87      0.95      0.91      1595\n",
      "           1       0.70      0.44      0.54       405\n",
      "\n",
      "    accuracy                           0.85      2000\n",
      "   macro avg       0.79      0.70      0.72      2000\n",
      "weighted avg       0.84      0.85      0.83      2000\n",
      "\n"
     ]
    }
   ],
   "source": [
    "from sklearn.metrics import confusion_matrix , classification_report\n",
    "\n",
    "print(classification_report(y_test,y_pred))"
   ]
  },
  {
   "cell_type": "code",
   "execution_count": 29,
   "id": "97614a73",
   "metadata": {},
   "outputs": [
    {
     "data": {
      "image/png": "[encoded data removed]",
      "text/plain": [
       "<Figure size 576x432 with 2 Axes>"
      ]
     },
     "metadata": {
      "needs_background": "light"
     },
     "output_type": "display_data"
    }
   ],
   "source": [
    "import seaborn as sn\n",
    "cm = tf.math.confusion_matrix(labels=y_test,predictions=y_pred)\n",
    "\n",
    "plt.figure(figsize = (8,6))\n",
    "sn.heatmap(cm, annot=True, fmt='d')\n",
    "plt.xlabel('Predicted')\n",
    "plt.ylabel('Truth')\n",
    "plt.show()"
   ]
  },
  {
   "cell_type": "code",
   "execution_count": 30,
   "id": "11674216",
   "metadata": {},
   "outputs": [
    {
     "data": {
      "text/plain": [
       "(2000,)"
      ]
     },
     "execution_count": 30,
     "metadata": {},
     "output_type": "execute_result"
    }
   ],
   "source": [
    "y_test.shape"
   ]
  },
  {
   "cell_type": "markdown",
   "id": "d8103872",
   "metadata": {},
   "source": [
    "**MODEL WITH DROPOUT LAYER**"
   ]
  },
  {
   "cell_type": "code",
   "execution_count": 36,
   "id": "dd4e77eb",
   "metadata": {},
   "outputs": [
    {
     "name": "stdout",
     "output_type": "stream",
     "text": [
      "Epoch 1/100\n",
      "250/250 [==============================] - 2s 6ms/step - loss: 0.7863 - accuracy: 0.6321\n",
      "Epoch 2/100\n",
      "250/250 [==============================] - 2s 6ms/step - loss: 0.6252 - accuracy: 0.7719\n",
      "Epoch 3/100\n",
      "250/250 [==============================] - 1s 6ms/step - loss: 0.5808 - accuracy: 0.7901\n",
      "Epoch 4/100\n",
      "250/250 [==============================] - 1s 6ms/step - loss: 0.5544 - accuracy: 0.7941\n",
      "Epoch 5/100\n",
      "250/250 [==============================] - 1s 6ms/step - loss: 0.5356 - accuracy: 0.7960\n",
      "Epoch 6/100\n",
      "250/250 [==============================] - 2s 6ms/step - loss: 0.5240 - accuracy: 0.7959\n",
      "Epoch 7/100\n",
      "250/250 [==============================] - 1s 5ms/step - loss: 0.5165 - accuracy: 0.7960\n",
      "Epoch 8/100\n",
      "250/250 [==============================] - 2s 6ms/step - loss: 0.5119 - accuracy: 0.7959\n",
      "Epoch 9/100\n",
      "250/250 [==============================] - 2s 6ms/step - loss: 0.5091 - accuracy: 0.7960\n",
      "Epoch 10/100\n",
      "250/250 [==============================] - 1s 6ms/step - loss: 0.5074 - accuracy: 0.7960\n",
      "Epoch 11/100\n",
      "250/250 [==============================] - 1s 5ms/step - loss: 0.5067 - accuracy: 0.7960\n",
      "Epoch 12/100\n",
      "250/250 [==============================] - 1s 6ms/step - loss: 0.5060 - accuracy: 0.7960\n",
      "Epoch 13/100\n",
      "250/250 [==============================] - 1s 6ms/step - loss: 0.5061 - accuracy: 0.7961\n",
      "Epoch 14/100\n",
      "250/250 [==============================] - 2s 6ms/step - loss: 0.5059 - accuracy: 0.7959\n",
      "Epoch 15/100\n",
      "250/250 [==============================] - 1s 6ms/step - loss: 0.5057 - accuracy: 0.7959\n",
      "Epoch 16/100\n",
      "250/250 [==============================] - 2s 6ms/step - loss: 0.5055 - accuracy: 0.7960\n",
      "Epoch 17/100\n",
      "250/250 [==============================] - 1s 6ms/step - loss: 0.5054 - accuracy: 0.7960\n",
      "Epoch 18/100\n",
      "250/250 [==============================] - 2s 6ms/step - loss: 0.5055 - accuracy: 0.7961\n",
      "Epoch 19/100\n",
      "250/250 [==============================] - 2s 6ms/step - loss: 0.5044 - accuracy: 0.7960\n",
      "Epoch 20/100\n",
      "250/250 [==============================] - 1s 6ms/step - loss: 0.5044 - accuracy: 0.7960\n",
      "Epoch 21/100\n",
      "250/250 [==============================] - 1s 6ms/step - loss: 0.5054 - accuracy: 0.7959\n",
      "Epoch 22/100\n",
      "250/250 [==============================] - 1s 5ms/step - loss: 0.5036 - accuracy: 0.7960\n",
      "Epoch 23/100\n",
      "250/250 [==============================] - 1s 6ms/step - loss: 0.5028 - accuracy: 0.7960\n",
      "Epoch 24/100\n",
      "250/250 [==============================] - 1s 5ms/step - loss: 0.5045 - accuracy: 0.7966\n",
      "Epoch 25/100\n",
      "250/250 [==============================] - 1s 5ms/step - loss: 0.5023 - accuracy: 0.7949\n",
      "Epoch 26/100\n",
      "250/250 [==============================] - 1s 6ms/step - loss: 0.5023 - accuracy: 0.7959\n",
      "Epoch 27/100\n",
      "250/250 [==============================] - 1s 6ms/step - loss: 0.5021 - accuracy: 0.7960\n",
      "Epoch 28/100\n",
      "250/250 [==============================] - 1s 5ms/step - loss: 0.5029 - accuracy: 0.7951\n",
      "Epoch 29/100\n",
      "250/250 [==============================] - 1s 5ms/step - loss: 0.5023 - accuracy: 0.7945\n",
      "Epoch 30/100\n",
      "250/250 [==============================] - 1s 5ms/step - loss: 0.4966 - accuracy: 0.7966\n",
      "Epoch 31/100\n",
      "250/250 [==============================] - 1s 5ms/step - loss: 0.4962 - accuracy: 0.7962\n",
      "Epoch 32/100\n",
      "250/250 [==============================] - 1s 6ms/step - loss: 0.4975 - accuracy: 0.7961\n",
      "Epoch 33/100\n",
      "250/250 [==============================] - 1s 6ms/step - loss: 0.4952 - accuracy: 0.7954\n",
      "Epoch 34/100\n",
      "250/250 [==============================] - 1s 5ms/step - loss: 0.4951 - accuracy: 0.7961\n",
      "Epoch 35/100\n",
      "250/250 [==============================] - 1s 5ms/step - loss: 0.4970 - accuracy: 0.7950\n",
      "Epoch 36/100\n",
      "250/250 [==============================] - 1s 5ms/step - loss: 0.4944 - accuracy: 0.7964\n",
      "Epoch 37/100\n",
      "250/250 [==============================] - 1s 5ms/step - loss: 0.4924 - accuracy: 0.7983\n",
      "Epoch 38/100\n",
      "250/250 [==============================] - 1s 5ms/step - loss: 0.4915 - accuracy: 0.7981\n",
      "Epoch 39/100\n",
      "250/250 [==============================] - 1s 5ms/step - loss: 0.4924 - accuracy: 0.7972\n",
      "Epoch 40/100\n",
      "250/250 [==============================] - 1s 6ms/step - loss: 0.4902 - accuracy: 0.7975\n",
      "Epoch 41/100\n",
      "250/250 [==============================] - 2s 6ms/step - loss: 0.4885 - accuracy: 0.7975\n",
      "Epoch 42/100\n",
      "250/250 [==============================] - 1s 6ms/step - loss: 0.4860 - accuracy: 0.7970\n",
      "Epoch 43/100\n",
      "250/250 [==============================] - 1s 6ms/step - loss: 0.4864 - accuracy: 0.7981\n",
      "Epoch 44/100\n",
      "250/250 [==============================] - 1s 6ms/step - loss: 0.4839 - accuracy: 0.8010\n",
      "Epoch 45/100\n",
      "250/250 [==============================] - 2s 6ms/step - loss: 0.4831 - accuracy: 0.8004\n",
      "Epoch 46/100\n",
      "250/250 [==============================] - 1s 5ms/step - loss: 0.4802 - accuracy: 0.8044\n",
      "Epoch 47/100\n",
      "250/250 [==============================] - 1s 5ms/step - loss: 0.4803 - accuracy: 0.8019\n",
      "Epoch 48/100\n",
      "250/250 [==============================] - 1s 5ms/step - loss: 0.4810 - accuracy: 0.8009\n",
      "Epoch 49/100\n",
      "250/250 [==============================] - 1s 5ms/step - loss: 0.4809 - accuracy: 0.7997\n",
      "Epoch 50/100\n",
      "250/250 [==============================] - 1s 5ms/step - loss: 0.4816 - accuracy: 0.7999\n",
      "Epoch 51/100\n",
      "250/250 [==============================] - 1s 5ms/step - loss: 0.4799 - accuracy: 0.8035\n",
      "Epoch 52/100\n",
      "250/250 [==============================] - 1s 6ms/step - loss: 0.4791 - accuracy: 0.8049\n",
      "Epoch 53/100\n",
      "250/250 [==============================] - 2s 7ms/step - loss: 0.4760 - accuracy: 0.8076\n",
      "Epoch 54/100\n",
      "250/250 [==============================] - 2s 6ms/step - loss: 0.4744 - accuracy: 0.8060\n",
      "Epoch 55/100\n",
      "250/250 [==============================] - 1s 6ms/step - loss: 0.4759 - accuracy: 0.8060\n",
      "Epoch 56/100\n",
      "250/250 [==============================] - 1s 5ms/step - loss: 0.4761 - accuracy: 0.8066\n",
      "Epoch 57/100\n",
      "250/250 [==============================] - 1s 5ms/step - loss: 0.4826 - accuracy: 0.8011\n",
      "Epoch 58/100\n",
      "250/250 [==============================] - 1s 5ms/step - loss: 0.4781 - accuracy: 0.8039\n",
      "Epoch 59/100\n",
      "250/250 [==============================] - 1s 5ms/step - loss: 0.4761 - accuracy: 0.8050\n",
      "Epoch 60/100\n",
      "250/250 [==============================] - 1s 5ms/step - loss: 0.4723 - accuracy: 0.8085\n",
      "Epoch 61/100\n",
      "250/250 [==============================] - 1s 6ms/step - loss: 0.4684 - accuracy: 0.8120\n",
      "Epoch 62/100\n",
      "250/250 [==============================] - 1s 6ms/step - loss: 0.4767 - accuracy: 0.8045\n",
      "Epoch 63/100\n",
      "250/250 [==============================] - 1s 6ms/step - loss: 0.4720 - accuracy: 0.8094\n",
      "Epoch 64/100\n",
      "250/250 [==============================] - 2s 6ms/step - loss: 0.4674 - accuracy: 0.8096\n",
      "Epoch 65/100\n",
      "250/250 [==============================] - 1s 5ms/step - loss: 0.4562 - accuracy: 0.8204\n",
      "Epoch 66/100\n",
      "250/250 [==============================] - 2s 6ms/step - loss: 0.4699 - accuracy: 0.8146\n",
      "Epoch 67/100\n",
      "250/250 [==============================] - 1s 6ms/step - loss: 0.4651 - accuracy: 0.8140\n",
      "Epoch 68/100\n",
      "250/250 [==============================] - 1s 6ms/step - loss: 0.4649 - accuracy: 0.8141\n",
      "Epoch 69/100\n",
      "250/250 [==============================] - 2s 7ms/step - loss: 0.4641 - accuracy: 0.8146\n",
      "Epoch 70/100\n",
      "250/250 [==============================] - 2s 6ms/step - loss: 0.4691 - accuracy: 0.8136\n",
      "Epoch 71/100\n",
      "250/250 [==============================] - 1s 6ms/step - loss: 0.4669 - accuracy: 0.8116\n",
      "Epoch 72/100\n",
      "250/250 [==============================] - 1s 6ms/step - loss: 0.4675 - accuracy: 0.8152\n",
      "Epoch 73/100\n",
      "250/250 [==============================] - 1s 6ms/step - loss: 0.4662 - accuracy: 0.8156\n",
      "Epoch 74/100\n",
      "250/250 [==============================] - 1s 6ms/step - loss: 0.4666 - accuracy: 0.8152\n",
      "Epoch 75/100\n",
      "250/250 [==============================] - 1s 6ms/step - loss: 0.4577 - accuracy: 0.8174\n",
      "Epoch 76/100\n",
      "250/250 [==============================] - 1s 6ms/step - loss: 0.4586 - accuracy: 0.8192\n",
      "Epoch 77/100\n",
      "250/250 [==============================] - 1s 5ms/step - loss: 0.4599 - accuracy: 0.8155\n",
      "Epoch 78/100\n",
      "250/250 [==============================] - 1s 6ms/step - loss: 0.4602 - accuracy: 0.8194\n",
      "Epoch 79/100\n",
      "250/250 [==============================] - 1s 6ms/step - loss: 0.4546 - accuracy: 0.8198\n",
      "Epoch 80/100\n",
      "250/250 [==============================] - 1s 5ms/step - loss: 0.4551 - accuracy: 0.8205\n",
      "Epoch 81/100\n",
      "250/250 [==============================] - 1s 5ms/step - loss: 0.4556 - accuracy: 0.8199\n",
      "Epoch 82/100\n",
      "250/250 [==============================] - 1s 5ms/step - loss: 0.4616 - accuracy: 0.8185\n",
      "Epoch 83/100\n",
      "250/250 [==============================] - 1s 5ms/step - loss: 0.4671 - accuracy: 0.8146\n",
      "Epoch 84/100\n",
      "250/250 [==============================] - 1s 5ms/step - loss: 0.4618 - accuracy: 0.8173\n",
      "Epoch 85/100\n",
      "250/250 [==============================] - 1s 5ms/step - loss: 0.4541 - accuracy: 0.8226\n",
      "Epoch 86/100\n",
      "250/250 [==============================] - 1s 5ms/step - loss: 0.4618 - accuracy: 0.8188\n",
      "Epoch 87/100\n",
      "250/250 [==============================] - 1s 5ms/step - loss: 0.4663 - accuracy: 0.8164\n",
      "Epoch 88/100\n",
      "250/250 [==============================] - 1s 5ms/step - loss: 0.4614 - accuracy: 0.8180\n",
      "Epoch 89/100\n",
      "250/250 [==============================] - 1s 5ms/step - loss: 0.4574 - accuracy: 0.8216\n",
      "Epoch 90/100\n",
      "250/250 [==============================] - 1s 5ms/step - loss: 0.4527 - accuracy: 0.8230\n",
      "Epoch 91/100\n",
      "250/250 [==============================] - 1s 5ms/step - loss: 0.4594 - accuracy: 0.8223\n",
      "Epoch 92/100\n",
      "250/250 [==============================] - 1s 5ms/step - loss: 0.4668 - accuracy: 0.8185\n",
      "Epoch 93/100\n",
      "250/250 [==============================] - 1s 5ms/step - loss: 0.4585 - accuracy: 0.8183\n",
      "Epoch 94/100\n",
      "250/250 [==============================] - 1s 5ms/step - loss: 0.4634 - accuracy: 0.8167\n",
      "Epoch 95/100\n",
      "250/250 [==============================] - 2s 6ms/step - loss: 0.4606 - accuracy: 0.8198\n",
      "Epoch 96/100\n",
      "250/250 [==============================] - 1s 6ms/step - loss: 0.4599 - accuracy: 0.8165\n",
      "Epoch 97/100\n",
      "250/250 [==============================] - 1s 6ms/step - loss: 0.4542 - accuracy: 0.8239\n",
      "Epoch 98/100\n",
      "250/250 [==============================] - 1s 5ms/step - loss: 0.4556 - accuracy: 0.8198\n",
      "Epoch 99/100\n",
      "250/250 [==============================] - 2s 7ms/step - loss: 0.4543 - accuracy: 0.8211\n",
      "Epoch 100/100\n",
      "250/250 [==============================] - 2s 8ms/step - loss: 0.4630 - accuracy: 0.8171\n"
     ]
    },
    {
     "data": {
      "text/plain": [
       "<keras.callbacks.History at 0x22b75dd5250>"
      ]
     },
     "execution_count": 36,
     "metadata": {},
     "output_type": "execute_result"
    }
   ],
   "source": [
    "import tensorflow as tf\n",
    "from tensorflow.keras.models import Sequential\n",
    "from tensorflow.keras.layers import Dense, Activation\n",
    "from tensorflow.keras.layers import Dropout\n",
    "\n",
    "\n",
    "modeld = keras.Sequential([\n",
    "    keras.layers.Dense(12, input_shape=(12,), activation='relu'),\n",
    "    keras.layers.Dropout(0.5),\n",
    "    keras.layers.Dense(6, activation='relu'),\n",
    "    keras.layers.Dropout(0.5),\n",
    "    keras.layers.Dense(3, activation='relu'),\n",
    "    keras.layers.Dropout(0.5),\n",
    "    keras.layers.Dense(1, activation='sigmoid')\n",
    "])\n",
    "\n",
    "# opt = keras.optimizers.Adam(learning_rate=0.01)\n",
    "\n",
    "modeld.compile(optimizer='adam',\n",
    "              loss='binary_crossentropy',\n",
    "              metrics=['accuracy'])\n",
    "\n",
    "modeld.fit(X_train, y_train, epochs=100)"
   ]
  },
  {
   "cell_type": "code",
   "execution_count": 37,
   "id": "a4c61c59",
   "metadata": {},
   "outputs": [
    {
     "name": "stdout",
     "output_type": "stream",
     "text": [
      "63/63 [==============================] - 1s 6ms/step - loss: 0.4178 - accuracy: 0.8325\n",
      "\n",
      " test accuracy : [0.41780728101730347, 0.8324999809265137]\n"
     ]
    }
   ],
   "source": [
    "print(f'\\n test accuracy : {modeld.evaluate(X_test, y_test)}')"
   ]
  },
  {
   "cell_type": "code",
   "execution_count": 38,
   "id": "17e56ae6",
   "metadata": {},
   "outputs": [
    {
     "name": "stdout",
     "output_type": "stream",
     "text": [
      "              precision    recall  f1-score   support\n",
      "\n",
      "           0       0.87      0.95      0.91      1595\n",
      "           1       0.70      0.44      0.54       405\n",
      "\n",
      "    accuracy                           0.85      2000\n",
      "   macro avg       0.79      0.70      0.72      2000\n",
      "weighted avg       0.84      0.85      0.83      2000\n",
      "\n"
     ]
    }
   ],
   "source": [
    "from sklearn.metrics import confusion_matrix , classification_report\n",
    "\n",
    "print(classification_report(y_test, y_pred))"
   ]
  },
  {
   "cell_type": "markdown",
   "id": "d6cd1007",
   "metadata": {},
   "source": [
    "**LOGISTIC REGRESSION**"
   ]
  },
  {
   "cell_type": "code",
   "execution_count": 39,
   "id": "66176666",
   "metadata": {},
   "outputs": [],
   "source": [
    " from sklearn.linear_model import LogisticRegression"
   ]
  },
  {
   "cell_type": "code",
   "execution_count": 40,
   "id": "54bb9145",
   "metadata": {},
   "outputs": [],
   "source": [
    "model1 = LogisticRegression()\n",
    "model1.fit(X_train,y_train)\n",
    "\n",
    "pred1 = model1.predict(X_test)"
   ]
  },
  {
   "cell_type": "code",
   "execution_count": 41,
   "id": "3cb5674d",
   "metadata": {},
   "outputs": [
    {
     "name": "stdout",
     "output_type": "stream",
     "text": [
      "              precision    recall  f1-score   support\n",
      "\n",
      "           0       0.82      0.97      0.89      1595\n",
      "           1       0.57      0.18      0.27       405\n",
      "\n",
      "    accuracy                           0.81      2000\n",
      "   macro avg       0.70      0.57      0.58      2000\n",
      "weighted avg       0.77      0.81      0.76      2000\n",
      "\n"
     ]
    }
   ],
   "source": [
    "print(classification_report(y_test,pred1))"
   ]
  },
  {
   "cell_type": "markdown",
   "id": "393ef872",
   "metadata": {},
   "source": [
    "**KNN**"
   ]
  },
  {
   "cell_type": "code",
   "execution_count": 42,
   "id": "68a81084",
   "metadata": {},
   "outputs": [],
   "source": [
    "from sklearn.neighbors import KNeighborsClassifier"
   ]
  },
  {
   "cell_type": "code",
   "execution_count": 43,
   "id": "a9b379df",
   "metadata": {},
   "outputs": [
    {
     "data": {
      "text/html": [
       "<style>#sk-container-id-1 {color: black;background-color: white;}#sk-container-id-1 pre{padding: 0;}#sk-container-id-1 div.sk-toggleable {background-color: white;}#sk-container-id-1 label.sk-toggleable__label {cursor: pointer;display: block;width: 100%;margin-bottom: 0;padding: 0.3em;box-sizing: border-box;text-align: center;}#sk-container-id-1 label.sk-toggleable__label-arrow:before {content: \"▸\";float: left;margin-right: 0.25em;color: #696969;}#sk-container-id-1 label.sk-toggleable__label-arrow:hover:before {color: black;}#sk-container-id-1 div.sk-estimator:hover label.sk-toggleable__label-arrow:before {color: black;}#sk-container-id-1 div.sk-toggleable__content {max-height: 0;max-width: 0;overflow: hidden;text-align: left;background-color: #f0f8ff;}#sk-container-id-1 div.sk-toggleable__content pre {margin: 0.2em;color: black;border-radius: 0.25em;background-color: #f0f8ff;}#sk-container-id-1 input.sk-toggleable__control:checked~div.sk-toggleable__content {max-height: 200px;max-width: 100%;overflow: auto;}#sk-container-id-1 input.sk-toggleable__control:checked~label.sk-toggleable__label-arrow:before {content: \"▾\";}#sk-container-id-1 div.sk-estimator input.sk-toggleable__control:checked~label.sk-toggleable__label {background-color: #d4ebff;}#sk-container-id-1 div.sk-label input.sk-toggleable__control:checked~label.sk-toggleable__label {background-color: #d4ebff;}#sk-container-id-1 input.sk-hidden--visually {border: 0;clip: rect(1px 1px 1px 1px);clip: rect(1px, 1px, 1px, 1px);height: 1px;margin: -1px;overflow: hidden;padding: 0;position: absolute;width: 1px;}#sk-container-id-1 div.sk-estimator {font-family: monospace;background-color: #f0f8ff;border: 1px dotted black;border-radius: 0.25em;box-sizing: border-box;margin-bottom: 0.5em;}#sk-container-id-1 div.sk-estimator:hover {background-color: #d4ebff;}#sk-container-id-1 div.sk-parallel-item::after {content: \"\";width: 100%;border-bottom: 1px solid gray;flex-grow: 1;}#sk-container-id-1 div.sk-label:hover label.sk-toggleable__label {background-color: #d4ebff;}#sk-container-id-1 div.sk-serial::before {content: \"\";position: absolute;border-left: 1px solid gray;box-sizing: border-box;top: 0;bottom: 0;left: 50%;z-index: 0;}#sk-container-id-1 div.sk-serial {display: flex;flex-direction: column;align-items: center;background-color: white;padding-right: 0.2em;padding-left: 0.2em;position: relative;}#sk-container-id-1 div.sk-item {position: relative;z-index: 1;}#sk-container-id-1 div.sk-parallel {display: flex;align-items: stretch;justify-content: center;background-color: white;position: relative;}#sk-container-id-1 div.sk-item::before, #sk-container-id-1 div.sk-parallel-item::before {content: \"\";position: absolute;border-left: 1px solid gray;box-sizing: border-box;top: 0;bottom: 0;left: 50%;z-index: -1;}#sk-container-id-1 div.sk-parallel-item {display: flex;flex-direction: column;z-index: 1;position: relative;background-color: white;}#sk-container-id-1 div.sk-parallel-item:first-child::after {align-self: flex-end;width: 50%;}#sk-container-id-1 div.sk-parallel-item:last-child::after {align-self: flex-start;width: 50%;}#sk-container-id-1 div.sk-parallel-item:only-child::after {width: 0;}#sk-container-id-1 div.sk-dashed-wrapped {border: 1px dashed gray;margin: 0 0.4em 0.5em 0.4em;box-sizing: border-box;padding-bottom: 0.4em;background-color: white;}#sk-container-id-1 div.sk-label label {font-family: monospace;font-weight: bold;display: inline-block;line-height: 1.2em;}#sk-container-id-1 div.sk-label-container {text-align: center;}#sk-container-id-1 div.sk-container {/* jupyter's `normalize.less` sets `[hidden] { display: none; }` but bootstrap.min.css set `[hidden] { display: none !important; }` so we also need the `!important` here to be able to override the default hidden behavior on the sphinx rendered scikit-learn.org. See: https://github.com/scikit-learn/scikit-learn/issues/21755 */display: inline-block !important;position: relative;}#sk-container-id-1 div.sk-text-repr-fallback {display: none;}</style><div id=\"sk-container-id-1\" class=\"sk-top-container\"><div class=\"sk-text-repr-fallback\"><pre>KNeighborsClassifier(n_neighbors=7)</pre><b>In a Jupyter environment, please rerun this cell to show the HTML representation or trust the notebook. <br />On GitHub, the HTML representation is unable to render, please try loading this page with nbviewer.org.</b></div><div class=\"sk-container\" hidden><div class=\"sk-item\"><div class=\"sk-estimator sk-toggleable\"><input class=\"sk-toggleable__control sk-hidden--visually\" id=\"sk-estimator-id-1\" type=\"checkbox\" checked><label for=\"sk-estimator-id-1\" class=\"sk-toggleable__label sk-toggleable__label-arrow\">KNeighborsClassifier</label><div class=\"sk-toggleable__content\"><pre>KNeighborsClassifier(n_neighbors=7)</pre></div></div></div></div></div>"
      ],
      "text/plain": [
       "KNeighborsClassifier(n_neighbors=7)"
      ]
     },
     "execution_count": 43,
     "metadata": {},
     "output_type": "execute_result"
    }
   ],
   "source": [
    "model2 = KNeighborsClassifier(n_neighbors=7)\n",
    "model2.fit(X_train,y_train)"
   ]
  },
  {
   "cell_type": "code",
   "execution_count": 44,
   "id": "0083caef",
   "metadata": {},
   "outputs": [
    {
     "name": "stdout",
     "output_type": "stream",
     "text": [
      "              precision    recall  f1-score   support\n",
      "\n",
      "           0       0.83      0.94      0.88      1595\n",
      "           1       0.51      0.26      0.34       405\n",
      "\n",
      "    accuracy                           0.80      2000\n",
      "   macro avg       0.67      0.60      0.61      2000\n",
      "weighted avg       0.77      0.80      0.77      2000\n",
      "\n"
     ]
    }
   ],
   "source": [
    "pred2 = model2.predict(X_test)\n",
    "print(classification_report(y_test,pred2))"
   ]
  },
  {
   "cell_type": "markdown",
   "id": "5248506b",
   "metadata": {},
   "source": [
    "**SVM**"
   ]
  },
  {
   "cell_type": "code",
   "execution_count": 45,
   "id": "cdcd1684",
   "metadata": {},
   "outputs": [],
   "source": [
    "from sklearn.svm import SVC"
   ]
  },
  {
   "cell_type": "code",
   "execution_count": 46,
   "id": "02e4c3b4",
   "metadata": {},
   "outputs": [
    {
     "data": {
      "text/html": [
       "<style>#sk-container-id-2 {color: black;background-color: white;}#sk-container-id-2 pre{padding: 0;}#sk-container-id-2 div.sk-toggleable {background-color: white;}#sk-container-id-2 label.sk-toggleable__label {cursor: pointer;display: block;width: 100%;margin-bottom: 0;padding: 0.3em;box-sizing: border-box;text-align: center;}#sk-container-id-2 label.sk-toggleable__label-arrow:before {content: \"▸\";float: left;margin-right: 0.25em;color: #696969;}#sk-container-id-2 label.sk-toggleable__label-arrow:hover:before {color: black;}#sk-container-id-2 div.sk-estimator:hover label.sk-toggleable__label-arrow:before {color: black;}#sk-container-id-2 div.sk-toggleable__content {max-height: 0;max-width: 0;overflow: hidden;text-align: left;background-color: #f0f8ff;}#sk-container-id-2 div.sk-toggleable__content pre {margin: 0.2em;color: black;border-radius: 0.25em;background-color: #f0f8ff;}#sk-container-id-2 input.sk-toggleable__control:checked~div.sk-toggleable__content {max-height: 200px;max-width: 100%;overflow: auto;}#sk-container-id-2 input.sk-toggleable__control:checked~label.sk-toggleable__label-arrow:before {content: \"▾\";}#sk-container-id-2 div.sk-estimator input.sk-toggleable__control:checked~label.sk-toggleable__label {background-color: #d4ebff;}#sk-container-id-2 div.sk-label input.sk-toggleable__control:checked~label.sk-toggleable__label {background-color: #d4ebff;}#sk-container-id-2 input.sk-hidden--visually {border: 0;clip: rect(1px 1px 1px 1px);clip: rect(1px, 1px, 1px, 1px);height: 1px;margin: -1px;overflow: hidden;padding: 0;position: absolute;width: 1px;}#sk-container-id-2 div.sk-estimator {font-family: monospace;background-color: #f0f8ff;border: 1px dotted black;border-radius: 0.25em;box-sizing: border-box;margin-bottom: 0.5em;}#sk-container-id-2 div.sk-estimator:hover {background-color: #d4ebff;}#sk-container-id-2 div.sk-parallel-item::after {content: \"\";width: 100%;border-bottom: 1px solid gray;flex-grow: 1;}#sk-container-id-2 div.sk-label:hover label.sk-toggleable__label {background-color: #d4ebff;}#sk-container-id-2 div.sk-serial::before {content: \"\";position: absolute;border-left: 1px solid gray;box-sizing: border-box;top: 0;bottom: 0;left: 50%;z-index: 0;}#sk-container-id-2 div.sk-serial {display: flex;flex-direction: column;align-items: center;background-color: white;padding-right: 0.2em;padding-left: 0.2em;position: relative;}#sk-container-id-2 div.sk-item {position: relative;z-index: 1;}#sk-container-id-2 div.sk-parallel {display: flex;align-items: stretch;justify-content: center;background-color: white;position: relative;}#sk-container-id-2 div.sk-item::before, #sk-container-id-2 div.sk-parallel-item::before {content: \"\";position: absolute;border-left: 1px solid gray;box-sizing: border-box;top: 0;bottom: 0;left: 50%;z-index: -1;}#sk-container-id-2 div.sk-parallel-item {display: flex;flex-direction: column;z-index: 1;position: relative;background-color: white;}#sk-container-id-2 div.sk-parallel-item:first-child::after {align-self: flex-end;width: 50%;}#sk-container-id-2 div.sk-parallel-item:last-child::after {align-self: flex-start;width: 50%;}#sk-container-id-2 div.sk-parallel-item:only-child::after {width: 0;}#sk-container-id-2 div.sk-dashed-wrapped {border: 1px dashed gray;margin: 0 0.4em 0.5em 0.4em;box-sizing: border-box;padding-bottom: 0.4em;background-color: white;}#sk-container-id-2 div.sk-label label {font-family: monospace;font-weight: bold;display: inline-block;line-height: 1.2em;}#sk-container-id-2 div.sk-label-container {text-align: center;}#sk-container-id-2 div.sk-container {/* jupyter's `normalize.less` sets `[hidden] { display: none; }` but bootstrap.min.css set `[hidden] { display: none !important; }` so we also need the `!important` here to be able to override the default hidden behavior on the sphinx rendered scikit-learn.org. See: https://github.com/scikit-learn/scikit-learn/issues/21755 */display: inline-block !important;position: relative;}#sk-container-id-2 div.sk-text-repr-fallback {display: none;}</style><div id=\"sk-container-id-2\" class=\"sk-top-container\"><div class=\"sk-text-repr-fallback\"><pre>SVC()</pre><b>In a Jupyter environment, please rerun this cell to show the HTML representation or trust the notebook. <br />On GitHub, the HTML representation is unable to render, please try loading this page with nbviewer.org.</b></div><div class=\"sk-container\" hidden><div class=\"sk-item\"><div class=\"sk-estimator sk-toggleable\"><input class=\"sk-toggleable__control sk-hidden--visually\" id=\"sk-estimator-id-2\" type=\"checkbox\" checked><label for=\"sk-estimator-id-2\" class=\"sk-toggleable__label sk-toggleable__label-arrow\">SVC</label><div class=\"sk-toggleable__content\"><pre>SVC()</pre></div></div></div></div></div>"
      ],
      "text/plain": [
       "SVC()"
      ]
     },
     "execution_count": 46,
     "metadata": {},
     "output_type": "execute_result"
    }
   ],
   "source": [
    "model3 = SVC()\n",
    "model3.fit(X_train,y_train)"
   ]
  },
  {
   "cell_type": "code",
   "execution_count": 47,
   "id": "6bd3b2a4",
   "metadata": {},
   "outputs": [
    {
     "name": "stdout",
     "output_type": "stream",
     "text": [
      "              precision    recall  f1-score   support\n",
      "\n",
      "           0       0.80      1.00      0.89      1595\n",
      "           1       1.00      0.04      0.07       405\n",
      "\n",
      "    accuracy                           0.81      2000\n",
      "   macro avg       0.90      0.52      0.48      2000\n",
      "weighted avg       0.84      0.81      0.73      2000\n",
      "\n"
     ]
    }
   ],
   "source": [
    "pred3 = model3.predict(X_test)\n",
    "print(classification_report(y_test,pred3))"
   ]
  },
  {
   "cell_type": "markdown",
   "id": "8b752722",
   "metadata": {},
   "source": [
    "**Sigmoid_ANN > Logistic_Regression = SVM > KNN"
   ]
  }
 ],
 "metadata": {
  "kernelspec": {
   "display_name": "Python 3 (ipykernel)",
   "language": "python",
   "name": "python3"
  },
  "language_info": {
   "codemirror_mode": {
    "name": "ipython",
    "version": 3
   },
   "file_extension": ".py",
   "mimetype": "text/x-python",
   "name": "python",
   "nbconvert_exporter": "python",
   "pygments_lexer": "ipython3",
   "version": "3.8.8"
  }
 },
 "nbformat": 4,
 "nbformat_minor": 5
}
